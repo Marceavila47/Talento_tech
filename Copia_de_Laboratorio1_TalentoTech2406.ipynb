{
  "nbformat": 4,
  "nbformat_minor": 0,
  "metadata": {
    "colab": {
      "provenance": [],
      "include_colab_link": true
    },
    "kernelspec": {
      "name": "python3",
      "display_name": "Python 3"
    },
    "language_info": {
      "name": "python"
    }
  },
  "cells": [
    {
      "cell_type": "markdown",
      "metadata": {
        "id": "view-in-github",
        "colab_type": "text"
      },
      "source": [
        "<a href=\"https://colab.research.google.com/github/Marceavila47/Talento_tech/blob/main/Copia_de_Laboratorio1_TalentoTech2406.ipynb\" target=\"_parent\"><img src=\"https://colab.research.google.com/assets/colab-badge.svg\" alt=\"Open In Colab\"/></a>"
      ]
    },
    {
      "cell_type": "markdown",
      "metadata": {
        "id": "Sz8ogFjl7a8b"
      },
      "source": [
        "# Laboratorio # 1\n",
        "\n",
        "### Temas: Limpieza de Datos, análisis de negocio, integración de fuentes de datos"
      ]
    },
    {
      "cell_type": "markdown",
      "metadata": {
        "id": "jYJxCZNZDfYe"
      },
      "source": [
        "# 1. El problema del negocio\n",
        "\n",
        "Una entidad bancaria contrata a una empresa de marketing encargada de contactar telefónicamente a posibles clientes para determinar si están interesados o no en adquirir un certificado de depósito a término con el banco.\n",
        "\n",
        "¿Qué perfil tienen los clientes con mayor potencial de conversión?"
      ]
    },
    {
      "cell_type": "markdown",
      "metadata": {
        "id": "4WOEkmPt7aHf"
      },
      "source": [
        "#2. El set de datos\n",
        "\n",
        "La información recolectada por la empresa de mercadeo se encuentra en un archivo CSV (`dataset_banco.csv`) con 45215 filas y 17 columnas.\n",
        "\n",
        "Cada registro contiene 16 características (las primeras 16 columnas) y una categoría (\"yes\" o \"no\" dependiendo de si la persona está o no interesada en adquirir el producto). Las columnas son:\n",
        "\n",
        "1. \"age\":  edad (numérica)\n",
        "2. \"job\": tipo de trabajo (categórica: \"admin.\", \"unknown\", \"unemployed\", \"management\", \"housemaid\", \"entrepreneur\", \"student\", \"blue-collar\",\"self-employed\", \"retired\", \"technician\", \"services\")\n",
        "3. \"marital\": estado civil (categórica: \"married\", \"divorced\", \"single\")\n",
        "4. \"education\": nivel educativo (categórica: \"unknown\", \"secondary\", \"primary\", \"tertiary\")\n",
        "5. \"default\": si dejó de pagar sus obligaciones (categórica: \"yes\", \"no\")\n",
        "6. \"balance\": saldo promedio anual de ingresos en euros (numérica)\n",
        "7. \"housing\": ¿tiene o no crédito hipotecario? (categórica: \"yes\", \"no\")\n",
        "8. \"loan\": ¿tiene créditos de consumo? (categórica: \"yes\", \"no\")\n",
        "9. \"contact\": medio a través del cual fue contactado (categórica: \"unknown\", \"telephone\", \"cellular\")\n",
        "10. \"day\": último día del mes en el que fue contactada (numérica)\n",
        "11. \"month\": último mes en el que fue contactada (categórica: \"jan\", \"feb\", \"mar\", ..., \"nov\", \"dec\")\n",
        "12. \"duration\": duración (en segundos) del último contacto (numérica)\n",
        "13. \"campaign\": número total de veces que fue contactada durante la campaña (numérica)\n",
        "14. \"pdays\": número de días transcurridos después de haber sido contactado antes de la campaña actual (numérica. -1 indica que no fue contactado previamente)\n",
        "15. \"previous\": número de veces que ha sido contactada antes de esta campaña (numérica)\n",
        "16. \"poutcome\": resultado de la campaña de marketing anterior (categórica: \"unknown\", \"other\", \"failure\", \"success\")\n",
        "17. \"y\": categoría ¿el cliente se suscribió a un depósito a término? (categórica: \"yes\", \"no\")"
      ]
    },
    {
      "cell_type": "markdown",
      "metadata": {
        "id": "7wXHT_PLEFkr"
      },
      "source": [
        "#3. Una primera mirada al dataset"
      ]
    },
    {
      "cell_type": "code",
      "metadata": {
        "id": "SQ_-SdsX7enM"
      },
      "source": [
        "# Importar librerías\n",
        "import pandas as pd\n",
        "import matplotlib.pyplot as plt\n",
        "import seaborn as sns"
      ],
      "execution_count": 37,
      "outputs": []
    },
    {
      "cell_type": "code",
      "metadata": {
        "colab": {
          "base_uri": "https://localhost:8080/"
        },
        "id": "yECOD3UAEV-a",
        "outputId": "745c9ac9-7d0d-4fcd-efc0-0bb03c7f6944"
      },
      "source": [
        "# Lectura\n",
        "from google.colab import drive\n",
        "drive.mount('/content/drive')\n",
        "\n",
        "ruta = \"/content/drive/MyDrive/Talento tech 2024/Laboratorio 1/dataset_banco.csv\"\n",
        "data = pd.read_csv(ruta)"
      ],
      "execution_count": 38,
      "outputs": [
        {
          "output_type": "stream",
          "name": "stdout",
          "text": [
            "Drive already mounted at /content/drive; to attempt to forcibly remount, call drive.mount(\"/content/drive\", force_remount=True).\n"
          ]
        }
      ]
    },
    {
      "cell_type": "code",
      "source": [
        "#proporciona visualización y exploración de datos con el dataset cargado"
      ],
      "metadata": {
        "id": "xvni9ncDBUkA"
      },
      "execution_count": null,
      "outputs": []
    },
    {
      "cell_type": "markdown",
      "source": [
        "# **Visualización y Exploración de Datos:**\n",
        "\n",
        "\n",
        "*   df.head(): Muestra las primeras filas del DataFrame.\n",
        "*   df.tail(): Muestra las últimas filas del DataFrame.\n",
        "*   df.info(): Muestra información sobre el DataFrame, incluyendo tipos de datos y valores no nulos.\n",
        "*   df.describe(): Proporciona estadísticas descriptivas para columnas numéricas.\n",
        "*   df.shape: Devuelve una tupla con la cantidad de filas y columnas del DataFrame.\n",
        "*   df.columns: Devuelve una lista con los nombres de las columnas del DataFrame."
      ],
      "metadata": {
        "id": "v3bOXngEBdel"
      }
    },
    {
      "cell_type": "markdown",
      "source": [
        "## Transformación de nombres de atributos"
      ],
      "metadata": {
        "id": "-DUzjZP59ilF"
      }
    },
    {
      "cell_type": "code",
      "source": [
        "#cambia los nombres de las columnas del dataframe\n",
        "# Renombramos las columnas\n",
        "df = data\n",
        "data_rename_2 = df.rename(columns={\n",
        "                                  'age':        'edad',\n",
        "                                  'job':        'trabajo',\n",
        "                                  'marital':    'estado_civil',\n",
        "                                  'education':  'educacion',\n",
        "                                  'default':    'morosidad',\n",
        "                                  'balance':    'saldo',\n",
        "                                  'housing':    'vivienda',\n",
        "                                  'loan':       'prestamo',\n",
        "                                  'contact':    'contacto',\n",
        "                                  'day':        'dia',\n",
        "                                  'month':      'mes',\n",
        "                                  'duration':   'duracion',\n",
        "                                  'campaign':   'campana',\n",
        "                                  'pdays':      'dias_previos',\n",
        "                                  'previous':   'anterior',\n",
        "                                  'poutcome':   'resultado',\n",
        "                                  'y':          'respuesta'})\n",
        "\n",
        "# Verificamos los cambios\n",
        "print(data_rename_2.head())"
      ],
      "metadata": {
        "id": "B7dcYCWP8bz8",
        "colab": {
          "base_uri": "https://localhost:8080/"
        },
        "outputId": "be777177-453c-44dd-a464-27980548c3a2"
      },
      "execution_count": 10,
      "outputs": [
        {
          "output_type": "stream",
          "name": "stdout",
          "text": [
            "   edad       trabajo estado_civil  educacion morosidad   saldo vivienda  \\\n",
            "0    58    management      married   tertiary        no  2143.0      yes   \n",
            "1    44    technician       single  secondary        no    29.0      yes   \n",
            "2    33  entrepreneur      married  secondary        no     2.0      yes   \n",
            "3    47   blue-collar      married    unknown        no  1506.0      yes   \n",
            "4    33       unknown       single    unknown        no     1.0       no   \n",
            "\n",
            "  prestamo contacto  dia  mes  duracion  campana  dias_previos  anterior  \\\n",
            "0       no  unknown    5  may     261.0        1          -1.0         0   \n",
            "1       no  unknown    5  may     151.0        1          -1.0         0   \n",
            "2      yes  unknown    5  may      76.0        1          -1.0         0   \n",
            "3       no  unknown    5  may      92.0        1          -1.0         0   \n",
            "4       no  unknown    5  may     198.0        1          -1.0         0   \n",
            "\n",
            "  resultado respuesta  \n",
            "0   unknown        no  \n",
            "1   unknown        no  \n",
            "2   unknown        no  \n",
            "3   unknown        no  \n",
            "4   unknown        no  \n"
          ]
        }
      ]
    },
    {
      "cell_type": "code",
      "source": [
        "# Renombrar las columnas #2\n",
        "df.columns = ['edad',\n",
        "              'trabajo',\n",
        "              'estado_civil',\n",
        "              'educacion',\n",
        "              'incumplimiento',\n",
        "              'saldo',\n",
        "              'vivienda',\n",
        "              'prestamo',\n",
        "              'contacto',\n",
        "              'dia',\n",
        "              'mes',\n",
        "              'duracion',\n",
        "              'campaña',\n",
        "              'dias_previos',\n",
        "              'anterior',\n",
        "              'resultado_prev',\n",
        "              'respuesta']\n",
        "\n",
        "print(df.columns)"
      ],
      "metadata": {
        "id": "zE6yUqKck2jG",
        "colab": {
          "base_uri": "https://localhost:8080/"
        },
        "outputId": "fb13fbe5-159d-4c40-8d19-18cc497b326e"
      },
      "execution_count": 11,
      "outputs": [
        {
          "output_type": "stream",
          "name": "stdout",
          "text": [
            "Index(['edad', 'trabajo', 'estado_civil', 'educacion', 'incumplimiento',\n",
            "       'saldo', 'vivienda', 'prestamo', 'contacto', 'dia', 'mes', 'duracion',\n",
            "       'campaña', 'dias_previos', 'anterior', 'resultado_prev', 'respuesta'],\n",
            "      dtype='object')\n"
          ]
        }
      ]
    },
    {
      "cell_type": "code",
      "source": [
        "#visualiza las primeras líneas de tu .csv\n",
        "df.head()"
      ],
      "metadata": {
        "id": "DAurjZa07b5Z",
        "colab": {
          "base_uri": "https://localhost:8080/",
          "height": 226
        },
        "outputId": "728b27af-0af0-4327-b4bb-5707d12c1f45"
      },
      "execution_count": 12,
      "outputs": [
        {
          "output_type": "execute_result",
          "data": {
            "text/plain": [
              "   edad       trabajo estado_civil  educacion incumplimiento   saldo vivienda  \\\n",
              "0    58    management      married   tertiary             no  2143.0      yes   \n",
              "1    44    technician       single  secondary             no    29.0      yes   \n",
              "2    33  entrepreneur      married  secondary             no     2.0      yes   \n",
              "3    47   blue-collar      married    unknown             no  1506.0      yes   \n",
              "4    33       unknown       single    unknown             no     1.0       no   \n",
              "\n",
              "  prestamo contacto  dia  mes  duracion  campaña  dias_previos  anterior  \\\n",
              "0       no  unknown    5  may     261.0        1          -1.0         0   \n",
              "1       no  unknown    5  may     151.0        1          -1.0         0   \n",
              "2      yes  unknown    5  may      76.0        1          -1.0         0   \n",
              "3       no  unknown    5  may      92.0        1          -1.0         0   \n",
              "4       no  unknown    5  may     198.0        1          -1.0         0   \n",
              "\n",
              "  resultado_prev respuesta  \n",
              "0        unknown        no  \n",
              "1        unknown        no  \n",
              "2        unknown        no  \n",
              "3        unknown        no  \n",
              "4        unknown        no  "
            ],
            "text/html": [
              "\n",
              "  <div id=\"df-ff7721e7-9e92-4bfc-a922-be7adbe1e6dc\" class=\"colab-df-container\">\n",
              "    <div>\n",
              "<style scoped>\n",
              "    .dataframe tbody tr th:only-of-type {\n",
              "        vertical-align: middle;\n",
              "    }\n",
              "\n",
              "    .dataframe tbody tr th {\n",
              "        vertical-align: top;\n",
              "    }\n",
              "\n",
              "    .dataframe thead th {\n",
              "        text-align: right;\n",
              "    }\n",
              "</style>\n",
              "<table border=\"1\" class=\"dataframe\">\n",
              "  <thead>\n",
              "    <tr style=\"text-align: right;\">\n",
              "      <th></th>\n",
              "      <th>edad</th>\n",
              "      <th>trabajo</th>\n",
              "      <th>estado_civil</th>\n",
              "      <th>educacion</th>\n",
              "      <th>incumplimiento</th>\n",
              "      <th>saldo</th>\n",
              "      <th>vivienda</th>\n",
              "      <th>prestamo</th>\n",
              "      <th>contacto</th>\n",
              "      <th>dia</th>\n",
              "      <th>mes</th>\n",
              "      <th>duracion</th>\n",
              "      <th>campaña</th>\n",
              "      <th>dias_previos</th>\n",
              "      <th>anterior</th>\n",
              "      <th>resultado_prev</th>\n",
              "      <th>respuesta</th>\n",
              "    </tr>\n",
              "  </thead>\n",
              "  <tbody>\n",
              "    <tr>\n",
              "      <th>0</th>\n",
              "      <td>58</td>\n",
              "      <td>management</td>\n",
              "      <td>married</td>\n",
              "      <td>tertiary</td>\n",
              "      <td>no</td>\n",
              "      <td>2143.0</td>\n",
              "      <td>yes</td>\n",
              "      <td>no</td>\n",
              "      <td>unknown</td>\n",
              "      <td>5</td>\n",
              "      <td>may</td>\n",
              "      <td>261.0</td>\n",
              "      <td>1</td>\n",
              "      <td>-1.0</td>\n",
              "      <td>0</td>\n",
              "      <td>unknown</td>\n",
              "      <td>no</td>\n",
              "    </tr>\n",
              "    <tr>\n",
              "      <th>1</th>\n",
              "      <td>44</td>\n",
              "      <td>technician</td>\n",
              "      <td>single</td>\n",
              "      <td>secondary</td>\n",
              "      <td>no</td>\n",
              "      <td>29.0</td>\n",
              "      <td>yes</td>\n",
              "      <td>no</td>\n",
              "      <td>unknown</td>\n",
              "      <td>5</td>\n",
              "      <td>may</td>\n",
              "      <td>151.0</td>\n",
              "      <td>1</td>\n",
              "      <td>-1.0</td>\n",
              "      <td>0</td>\n",
              "      <td>unknown</td>\n",
              "      <td>no</td>\n",
              "    </tr>\n",
              "    <tr>\n",
              "      <th>2</th>\n",
              "      <td>33</td>\n",
              "      <td>entrepreneur</td>\n",
              "      <td>married</td>\n",
              "      <td>secondary</td>\n",
              "      <td>no</td>\n",
              "      <td>2.0</td>\n",
              "      <td>yes</td>\n",
              "      <td>yes</td>\n",
              "      <td>unknown</td>\n",
              "      <td>5</td>\n",
              "      <td>may</td>\n",
              "      <td>76.0</td>\n",
              "      <td>1</td>\n",
              "      <td>-1.0</td>\n",
              "      <td>0</td>\n",
              "      <td>unknown</td>\n",
              "      <td>no</td>\n",
              "    </tr>\n",
              "    <tr>\n",
              "      <th>3</th>\n",
              "      <td>47</td>\n",
              "      <td>blue-collar</td>\n",
              "      <td>married</td>\n",
              "      <td>unknown</td>\n",
              "      <td>no</td>\n",
              "      <td>1506.0</td>\n",
              "      <td>yes</td>\n",
              "      <td>no</td>\n",
              "      <td>unknown</td>\n",
              "      <td>5</td>\n",
              "      <td>may</td>\n",
              "      <td>92.0</td>\n",
              "      <td>1</td>\n",
              "      <td>-1.0</td>\n",
              "      <td>0</td>\n",
              "      <td>unknown</td>\n",
              "      <td>no</td>\n",
              "    </tr>\n",
              "    <tr>\n",
              "      <th>4</th>\n",
              "      <td>33</td>\n",
              "      <td>unknown</td>\n",
              "      <td>single</td>\n",
              "      <td>unknown</td>\n",
              "      <td>no</td>\n",
              "      <td>1.0</td>\n",
              "      <td>no</td>\n",
              "      <td>no</td>\n",
              "      <td>unknown</td>\n",
              "      <td>5</td>\n",
              "      <td>may</td>\n",
              "      <td>198.0</td>\n",
              "      <td>1</td>\n",
              "      <td>-1.0</td>\n",
              "      <td>0</td>\n",
              "      <td>unknown</td>\n",
              "      <td>no</td>\n",
              "    </tr>\n",
              "  </tbody>\n",
              "</table>\n",
              "</div>\n",
              "    <div class=\"colab-df-buttons\">\n",
              "\n",
              "  <div class=\"colab-df-container\">\n",
              "    <button class=\"colab-df-convert\" onclick=\"convertToInteractive('df-ff7721e7-9e92-4bfc-a922-be7adbe1e6dc')\"\n",
              "            title=\"Convert this dataframe to an interactive table.\"\n",
              "            style=\"display:none;\">\n",
              "\n",
              "  <svg xmlns=\"http://www.w3.org/2000/svg\" height=\"24px\" viewBox=\"0 -960 960 960\">\n",
              "    <path d=\"M120-120v-720h720v720H120Zm60-500h600v-160H180v160Zm220 220h160v-160H400v160Zm0 220h160v-160H400v160ZM180-400h160v-160H180v160Zm440 0h160v-160H620v160ZM180-180h160v-160H180v160Zm440 0h160v-160H620v160Z\"/>\n",
              "  </svg>\n",
              "    </button>\n",
              "\n",
              "  <style>\n",
              "    .colab-df-container {\n",
              "      display:flex;\n",
              "      gap: 12px;\n",
              "    }\n",
              "\n",
              "    .colab-df-convert {\n",
              "      background-color: #E8F0FE;\n",
              "      border: none;\n",
              "      border-radius: 50%;\n",
              "      cursor: pointer;\n",
              "      display: none;\n",
              "      fill: #1967D2;\n",
              "      height: 32px;\n",
              "      padding: 0 0 0 0;\n",
              "      width: 32px;\n",
              "    }\n",
              "\n",
              "    .colab-df-convert:hover {\n",
              "      background-color: #E2EBFA;\n",
              "      box-shadow: 0px 1px 2px rgba(60, 64, 67, 0.3), 0px 1px 3px 1px rgba(60, 64, 67, 0.15);\n",
              "      fill: #174EA6;\n",
              "    }\n",
              "\n",
              "    .colab-df-buttons div {\n",
              "      margin-bottom: 4px;\n",
              "    }\n",
              "\n",
              "    [theme=dark] .colab-df-convert {\n",
              "      background-color: #3B4455;\n",
              "      fill: #D2E3FC;\n",
              "    }\n",
              "\n",
              "    [theme=dark] .colab-df-convert:hover {\n",
              "      background-color: #434B5C;\n",
              "      box-shadow: 0px 1px 3px 1px rgba(0, 0, 0, 0.15);\n",
              "      filter: drop-shadow(0px 1px 2px rgba(0, 0, 0, 0.3));\n",
              "      fill: #FFFFFF;\n",
              "    }\n",
              "  </style>\n",
              "\n",
              "    <script>\n",
              "      const buttonEl =\n",
              "        document.querySelector('#df-ff7721e7-9e92-4bfc-a922-be7adbe1e6dc button.colab-df-convert');\n",
              "      buttonEl.style.display =\n",
              "        google.colab.kernel.accessAllowed ? 'block' : 'none';\n",
              "\n",
              "      async function convertToInteractive(key) {\n",
              "        const element = document.querySelector('#df-ff7721e7-9e92-4bfc-a922-be7adbe1e6dc');\n",
              "        const dataTable =\n",
              "          await google.colab.kernel.invokeFunction('convertToInteractive',\n",
              "                                                    [key], {});\n",
              "        if (!dataTable) return;\n",
              "\n",
              "        const docLinkHtml = 'Like what you see? Visit the ' +\n",
              "          '<a target=\"_blank\" href=https://colab.research.google.com/notebooks/data_table.ipynb>data table notebook</a>'\n",
              "          + ' to learn more about interactive tables.';\n",
              "        element.innerHTML = '';\n",
              "        dataTable['output_type'] = 'display_data';\n",
              "        await google.colab.output.renderOutput(dataTable, element);\n",
              "        const docLink = document.createElement('div');\n",
              "        docLink.innerHTML = docLinkHtml;\n",
              "        element.appendChild(docLink);\n",
              "      }\n",
              "    </script>\n",
              "  </div>\n",
              "\n",
              "\n",
              "<div id=\"df-de4164aa-b884-424b-a58c-693b51064d65\">\n",
              "  <button class=\"colab-df-quickchart\" onclick=\"quickchart('df-de4164aa-b884-424b-a58c-693b51064d65')\"\n",
              "            title=\"Suggest charts\"\n",
              "            style=\"display:none;\">\n",
              "\n",
              "<svg xmlns=\"http://www.w3.org/2000/svg\" height=\"24px\"viewBox=\"0 0 24 24\"\n",
              "     width=\"24px\">\n",
              "    <g>\n",
              "        <path d=\"M19 3H5c-1.1 0-2 .9-2 2v14c0 1.1.9 2 2 2h14c1.1 0 2-.9 2-2V5c0-1.1-.9-2-2-2zM9 17H7v-7h2v7zm4 0h-2V7h2v10zm4 0h-2v-4h2v4z\"/>\n",
              "    </g>\n",
              "</svg>\n",
              "  </button>\n",
              "\n",
              "<style>\n",
              "  .colab-df-quickchart {\n",
              "      --bg-color: #E8F0FE;\n",
              "      --fill-color: #1967D2;\n",
              "      --hover-bg-color: #E2EBFA;\n",
              "      --hover-fill-color: #174EA6;\n",
              "      --disabled-fill-color: #AAA;\n",
              "      --disabled-bg-color: #DDD;\n",
              "  }\n",
              "\n",
              "  [theme=dark] .colab-df-quickchart {\n",
              "      --bg-color: #3B4455;\n",
              "      --fill-color: #D2E3FC;\n",
              "      --hover-bg-color: #434B5C;\n",
              "      --hover-fill-color: #FFFFFF;\n",
              "      --disabled-bg-color: #3B4455;\n",
              "      --disabled-fill-color: #666;\n",
              "  }\n",
              "\n",
              "  .colab-df-quickchart {\n",
              "    background-color: var(--bg-color);\n",
              "    border: none;\n",
              "    border-radius: 50%;\n",
              "    cursor: pointer;\n",
              "    display: none;\n",
              "    fill: var(--fill-color);\n",
              "    height: 32px;\n",
              "    padding: 0;\n",
              "    width: 32px;\n",
              "  }\n",
              "\n",
              "  .colab-df-quickchart:hover {\n",
              "    background-color: var(--hover-bg-color);\n",
              "    box-shadow: 0 1px 2px rgba(60, 64, 67, 0.3), 0 1px 3px 1px rgba(60, 64, 67, 0.15);\n",
              "    fill: var(--button-hover-fill-color);\n",
              "  }\n",
              "\n",
              "  .colab-df-quickchart-complete:disabled,\n",
              "  .colab-df-quickchart-complete:disabled:hover {\n",
              "    background-color: var(--disabled-bg-color);\n",
              "    fill: var(--disabled-fill-color);\n",
              "    box-shadow: none;\n",
              "  }\n",
              "\n",
              "  .colab-df-spinner {\n",
              "    border: 2px solid var(--fill-color);\n",
              "    border-color: transparent;\n",
              "    border-bottom-color: var(--fill-color);\n",
              "    animation:\n",
              "      spin 1s steps(1) infinite;\n",
              "  }\n",
              "\n",
              "  @keyframes spin {\n",
              "    0% {\n",
              "      border-color: transparent;\n",
              "      border-bottom-color: var(--fill-color);\n",
              "      border-left-color: var(--fill-color);\n",
              "    }\n",
              "    20% {\n",
              "      border-color: transparent;\n",
              "      border-left-color: var(--fill-color);\n",
              "      border-top-color: var(--fill-color);\n",
              "    }\n",
              "    30% {\n",
              "      border-color: transparent;\n",
              "      border-left-color: var(--fill-color);\n",
              "      border-top-color: var(--fill-color);\n",
              "      border-right-color: var(--fill-color);\n",
              "    }\n",
              "    40% {\n",
              "      border-color: transparent;\n",
              "      border-right-color: var(--fill-color);\n",
              "      border-top-color: var(--fill-color);\n",
              "    }\n",
              "    60% {\n",
              "      border-color: transparent;\n",
              "      border-right-color: var(--fill-color);\n",
              "    }\n",
              "    80% {\n",
              "      border-color: transparent;\n",
              "      border-right-color: var(--fill-color);\n",
              "      border-bottom-color: var(--fill-color);\n",
              "    }\n",
              "    90% {\n",
              "      border-color: transparent;\n",
              "      border-bottom-color: var(--fill-color);\n",
              "    }\n",
              "  }\n",
              "</style>\n",
              "\n",
              "  <script>\n",
              "    async function quickchart(key) {\n",
              "      const quickchartButtonEl =\n",
              "        document.querySelector('#' + key + ' button');\n",
              "      quickchartButtonEl.disabled = true;  // To prevent multiple clicks.\n",
              "      quickchartButtonEl.classList.add('colab-df-spinner');\n",
              "      try {\n",
              "        const charts = await google.colab.kernel.invokeFunction(\n",
              "            'suggestCharts', [key], {});\n",
              "      } catch (error) {\n",
              "        console.error('Error during call to suggestCharts:', error);\n",
              "      }\n",
              "      quickchartButtonEl.classList.remove('colab-df-spinner');\n",
              "      quickchartButtonEl.classList.add('colab-df-quickchart-complete');\n",
              "    }\n",
              "    (() => {\n",
              "      let quickchartButtonEl =\n",
              "        document.querySelector('#df-de4164aa-b884-424b-a58c-693b51064d65 button');\n",
              "      quickchartButtonEl.style.display =\n",
              "        google.colab.kernel.accessAllowed ? 'block' : 'none';\n",
              "    })();\n",
              "  </script>\n",
              "</div>\n",
              "\n",
              "    </div>\n",
              "  </div>\n"
            ],
            "application/vnd.google.colaboratory.intrinsic+json": {
              "type": "dataframe",
              "variable_name": "df",
              "summary": "{\n  \"name\": \"df\",\n  \"rows\": 45215,\n  \"fields\": [\n    {\n      \"column\": \"edad\",\n      \"properties\": {\n        \"dtype\": \"number\",\n        \"std\": 12,\n        \"min\": 18,\n        \"max\": 776,\n        \"num_unique_values\": 85,\n        \"samples\": [\n          89,\n          58,\n          74\n        ],\n        \"semantic_type\": \"\",\n        \"description\": \"\"\n      }\n    },\n    {\n      \"column\": \"trabajo\",\n      \"properties\": {\n        \"dtype\": \"category\",\n        \"num_unique_values\": 18,\n        \"samples\": [\n          \"management\",\n          \"technician\",\n          \"services\"\n        ],\n        \"semantic_type\": \"\",\n        \"description\": \"\"\n      }\n    },\n    {\n      \"column\": \"estado_civil\",\n      \"properties\": {\n        \"dtype\": \"category\",\n        \"num_unique_values\": 6,\n        \"samples\": [\n          \"married\",\n          \"single\",\n          \"Single\"\n        ],\n        \"semantic_type\": \"\",\n        \"description\": \"\"\n      }\n    },\n    {\n      \"column\": \"educacion\",\n      \"properties\": {\n        \"dtype\": \"category\",\n        \"num_unique_values\": 10,\n        \"samples\": [\n          \"Tertiary\",\n          \"secondary\",\n          \"Secondary\"\n        ],\n        \"semantic_type\": \"\",\n        \"description\": \"\"\n      }\n    },\n    {\n      \"column\": \"incumplimiento\",\n      \"properties\": {\n        \"dtype\": \"category\",\n        \"num_unique_values\": 2,\n        \"samples\": [\n          \"yes\",\n          \"no\"\n        ],\n        \"semantic_type\": \"\",\n        \"description\": \"\"\n      }\n    },\n    {\n      \"column\": \"saldo\",\n      \"properties\": {\n        \"dtype\": \"number\",\n        \"std\": 3924.255524653657,\n        \"min\": -8019.0,\n        \"max\": 527532.0,\n        \"num_unique_values\": 7168,\n        \"samples\": [\n          3276.0,\n          43.0\n        ],\n        \"semantic_type\": \"\",\n        \"description\": \"\"\n      }\n    },\n    {\n      \"column\": \"vivienda\",\n      \"properties\": {\n        \"dtype\": \"category\",\n        \"num_unique_values\": 2,\n        \"samples\": [\n          \"no\",\n          \"yes\"\n        ],\n        \"semantic_type\": \"\",\n        \"description\": \"\"\n      }\n    },\n    {\n      \"column\": \"prestamo\",\n      \"properties\": {\n        \"dtype\": \"category\",\n        \"num_unique_values\": 6,\n        \"samples\": [\n          \"no\",\n          \"yes\"\n        ],\n        \"semantic_type\": \"\",\n        \"description\": \"\"\n      }\n    },\n    {\n      \"column\": \"contacto\",\n      \"properties\": {\n        \"dtype\": \"category\",\n        \"num_unique_values\": 5,\n        \"samples\": [\n          \"cellular\",\n          \"mobile\"\n        ],\n        \"semantic_type\": \"\",\n        \"description\": \"\"\n      }\n    },\n    {\n      \"column\": \"dia\",\n      \"properties\": {\n        \"dtype\": \"number\",\n        \"std\": 8,\n        \"min\": 1,\n        \"max\": 31,\n        \"num_unique_values\": 31,\n        \"samples\": [\n          1,\n          27\n        ],\n        \"semantic_type\": \"\",\n        \"description\": \"\"\n      }\n    },\n    {\n      \"column\": \"mes\",\n      \"properties\": {\n        \"dtype\": \"category\",\n        \"num_unique_values\": 12,\n        \"samples\": [\n          \"apr\",\n          \"mar\"\n        ],\n        \"semantic_type\": \"\",\n        \"description\": \"\"\n      }\n    },\n    {\n      \"column\": \"duracion\",\n      \"properties\": {\n        \"dtype\": \"number\",\n        \"std\": 257.6051746062185,\n        \"min\": -1389.0,\n        \"max\": 4918.0,\n        \"num_unique_values\": 1575,\n        \"samples\": [\n          1342.0,\n          4.0\n        ],\n        \"semantic_type\": \"\",\n        \"description\": \"\"\n      }\n    },\n    {\n      \"column\": \"campa\\u00f1a\",\n      \"properties\": {\n        \"dtype\": \"number\",\n        \"std\": 3,\n        \"min\": 1,\n        \"max\": 63,\n        \"num_unique_values\": 48,\n        \"samples\": [\n          41,\n          27\n        ],\n        \"semantic_type\": \"\",\n        \"description\": \"\"\n      }\n    },\n    {\n      \"column\": \"dias_previos\",\n      \"properties\": {\n        \"dtype\": \"number\",\n        \"std\": 100.12062172110123,\n        \"min\": -1.0,\n        \"max\": 871.0,\n        \"num_unique_values\": 559,\n        \"samples\": [\n          249.0,\n          551.0\n        ],\n        \"semantic_type\": \"\",\n        \"description\": \"\"\n      }\n    },\n    {\n      \"column\": \"anterior\",\n      \"properties\": {\n        \"dtype\": \"number\",\n        \"std\": 2,\n        \"min\": 0,\n        \"max\": 275,\n        \"num_unique_values\": 41,\n        \"samples\": [\n          17,\n          9\n        ],\n        \"semantic_type\": \"\",\n        \"description\": \"\"\n      }\n    },\n    {\n      \"column\": \"resultado_prev\",\n      \"properties\": {\n        \"dtype\": \"category\",\n        \"num_unique_values\": 6,\n        \"samples\": [\n          \"unknown\",\n          \"UNK\"\n        ],\n        \"semantic_type\": \"\",\n        \"description\": \"\"\n      }\n    },\n    {\n      \"column\": \"respuesta\",\n      \"properties\": {\n        \"dtype\": \"category\",\n        \"num_unique_values\": 2,\n        \"samples\": [\n          \"yes\",\n          \"no\"\n        ],\n        \"semantic_type\": \"\",\n        \"description\": \"\"\n      }\n    }\n  ]\n}"
            }
          },
          "metadata": {},
          "execution_count": 12
        }
      ]
    },
    {
      "cell_type": "code",
      "metadata": {
        "id": "gATCZsQPE3VQ",
        "colab": {
          "base_uri": "https://localhost:8080/"
        },
        "outputId": "e816244b-a6db-45ba-a83a-635dbeeb264b"
      },
      "source": [
        "#visualiza las variables categóricas y las numéricas\n",
        "# Clasificar columnas\n",
        "categoricas = df.select_dtypes(include=['object']).columns.tolist()\n",
        "numericas = df.select_dtypes(include=['int64', 'float64']).columns.tolist()\n",
        "print(\"Columnas categóricas:\", categoricas)\n",
        "print(\"Columnas numéricas:\", numericas)"
      ],
      "execution_count": 13,
      "outputs": [
        {
          "output_type": "stream",
          "name": "stdout",
          "text": [
            "Columnas categóricas: ['trabajo', 'estado_civil', 'educacion', 'incumplimiento', 'vivienda', 'prestamo', 'contacto', 'mes', 'resultado_prev', 'respuesta']\n",
            "Columnas numéricas: ['edad', 'saldo', 'dia', 'duracion', 'campaña', 'dias_previos', 'anterior']\n"
          ]
        }
      ]
    },
    {
      "cell_type": "code",
      "source": [
        " pd.value_counts(data['job'])\n"
      ],
      "metadata": {
        "id": "Wsf-I34hlDom",
        "colab": {
          "base_uri": "https://localhost:8080/"
        },
        "outputId": "c621c7ad-f382-4671-bcb2-a275f81b8031"
      },
      "execution_count": 39,
      "outputs": [
        {
          "output_type": "execute_result",
          "data": {
            "text/plain": [
              "job\n",
              "blue-collar       9731\n",
              "management        9455\n",
              "technician        7599\n",
              "admin.            5168\n",
              "services          4153\n",
              "retired           2263\n",
              "self-employed     1578\n",
              "entrepreneur      1487\n",
              "unemployed        1303\n",
              "housemaid         1240\n",
              "student            938\n",
              "unknown            288\n",
              "administrative       3\n",
              "Management           2\n",
              "MANAGEMENT           2\n",
              "Self-employed        1\n",
              "Services             1\n",
              "Retired              1\n",
              "Name: count, dtype: int64"
            ]
          },
          "metadata": {},
          "execution_count": 39
        }
      ]
    },
    {
      "cell_type": "code",
      "source": [
        "#proporciona estadísticas descriptivas para columnas numéricas"
      ],
      "metadata": {
        "id": "UwSY-R2xBFzR"
      },
      "execution_count": 31,
      "outputs": []
    },
    {
      "cell_type": "markdown",
      "source": [
        "## 4. Limpieza\n",
        "\n",
        "Realizaremos el proceso de limpieza teniendo en cuenta las situaciones más comunes:\n",
        "\n",
        "1. Datos faltantes en algunas celdas\n",
        "2. Columnas irrelevantes (que no responden al problema que queremos resolver)\n",
        "3. Registros (filas) repetidos\n",
        "4. Valores extremos (*outliers*) en el caso de las variables numéricas. Se deben analizar en detalle pues no necesariamente la solución es eliminarlos\n",
        "5. Errores tipográficos en el caso de las variables categóricas\n",
        "\n",
        "Al final de este proceso de limpieza deberíamos tener un set de datos **íntegro**, listo para la fase de Análisis Exploratorio."
      ],
      "metadata": {
        "id": "9tP4NlOGcmGc"
      }
    },
    {
      "cell_type": "markdown",
      "source": [
        "## 4.1 Datos faltantes\n",
        "\n",
        "Acá comenzamos a ver que los datos no están completos, pues no todas las columnas tienen la misma cantidad de registros.\n",
        "\n",
        "El número total de registros debería ser 45.215. Sin embargo columnas como \"job\", \"marital\", \"education\", \"balance\", \"duration\" y \"pdays\".\n",
        "\n",
        "Por ser tan pocos los datos  faltantes optaremos por eliminar las filas correspondientes:"
      ],
      "metadata": {
        "id": "46uhC-egctBk"
      }
    },
    {
      "cell_type": "code",
      "source": [
        "#Comando para contar los valores faltantes de mi dataframe\n",
        "data.isna().sum()"
      ],
      "metadata": {
        "id": "5AQVtkiNcnWR",
        "colab": {
          "base_uri": "https://localhost:8080/"
        },
        "outputId": "ff6b7378-1886-4807-e4fd-1fb31e111343"
      },
      "execution_count": 15,
      "outputs": [
        {
          "output_type": "execute_result",
          "data": {
            "text/plain": [
              "edad              0\n",
              "trabajo           2\n",
              "estado_civil      1\n",
              "educacion         1\n",
              "incumplimiento    0\n",
              "saldo             2\n",
              "vivienda          0\n",
              "prestamo          0\n",
              "contacto          0\n",
              "dia               0\n",
              "mes               0\n",
              "duracion          1\n",
              "campaña           0\n",
              "dias_previos      1\n",
              "anterior          0\n",
              "resultado_prev    0\n",
              "respuesta         0\n",
              "dtype: int64"
            ]
          },
          "metadata": {},
          "execution_count": 15
        }
      ]
    },
    {
      "cell_type": "code",
      "source": [
        "#elimino los valores faltantes de mi dataframe\n",
        "data.dropna(inplace=True)\n",
        "\n",
        "#conteo de valores por columna de mi dataframe\n",
        "data.count()"
      ],
      "metadata": {
        "id": "Rti2umSze8zc",
        "colab": {
          "base_uri": "https://localhost:8080/"
        },
        "outputId": "619cd0c0-ab3b-4bb7-a55a-1bd63b00eb18"
      },
      "execution_count": 16,
      "outputs": [
        {
          "output_type": "execute_result",
          "data": {
            "text/plain": [
              "edad              45207\n",
              "trabajo           45207\n",
              "estado_civil      45207\n",
              "educacion         45207\n",
              "incumplimiento    45207\n",
              "saldo             45207\n",
              "vivienda          45207\n",
              "prestamo          45207\n",
              "contacto          45207\n",
              "dia               45207\n",
              "mes               45207\n",
              "duracion          45207\n",
              "campaña           45207\n",
              "dias_previos      45207\n",
              "anterior          45207\n",
              "resultado_prev    45207\n",
              "respuesta         45207\n",
              "dtype: int64"
            ]
          },
          "metadata": {},
          "execution_count": 16
        }
      ]
    },
    {
      "cell_type": "markdown",
      "source": [
        "##4.2 Columnas irrelevantes\n",
        "\n",
        "Una columna irrelevante puede ser:\n",
        "\n",
        "- **Una columna que no contiene información relevante para el problema que queremos resolver**. Por ejemplo en este caso podría ser una columna que no guarde relación con el posible perfil del cliente (deporte favorito, hobbies, comida favorita, etc.)\n",
        "- **Una columna categórica pero con un sólo nivel**. Por ejemplo si en la columna \"job\" solo tuviésemos el nivel \"unknown\".\n",
        "- **Una columna numérica pero con un sólo valor**. Por ejemplo si en la columna \"edad\" todos los valores fuesen iguales a 50.\n",
        "- **Columnas con información redundante**. Por ejemplo si además de las columnas \"month\" y \"day\" tuviésemos la columna \"month-day\", resultado de combinar las dos anteriores.\n",
        "\n",
        "Si tenemos la duda de si alguna columna puede ser relevante o no lo mejor es dejarla (y más adelante en posteriores etapas podremos darnos cuenta de si se debe preservar o no).\n",
        "\n",
        "En este caso todas las columnas pueden resultar relevantes, pero debemos verificar que no haya columnas categóricas con un sólo nivel, o columnas numéricas con un sólo valor:"
      ],
      "metadata": {
        "id": "iiwDQtf6kLCV"
      }
    },
    {
      "cell_type": "markdown",
      "source": [
        "# **for col in cols_cat:**\n",
        "Este es un bucle for que itera sobre cada elemento en la lista cols_cat. La variable col tomará el valor de cada elemento en cada iteración del bucle.\n",
        "\n",
        "print(f'Columna {col}: {data[col].nunique()} subniveles'): Dentro del bucle, esta línea de código imprime un mensaje que indica el nombre de la columna (col), seguido por el número de subniveles únicos en esa columna.\n",
        "\n",
        "f'Columna {col}: {data[col].nunique()} subniveles': Esta es una cadena de formato (f-string) que contiene dos variables:\n",
        "{col}: Representa el nombre de la columna actual en la iteración del bucle.\n",
        "{data[col].nunique()}: Representa el número de subniveles únicos en la columna actual. data[col] selecciona la columna actual del DataFrame y .nunique() calcula el número de valores únicos en esa columna."
      ],
      "metadata": {
        "id": "_Mp3NA1KiXIX"
      }
    },
    {
      "cell_type": "code",
      "source": [
        "# Conteo de los niveles en las diferentes columnas categóricas\n",
        "cols_cat = ['job', 'marital', 'education', 'default', 'housing',\n",
        "       'loan', 'contact', 'month', 'poutcome', 'y']\n",
        "\n",
        "for col in cols_cat:\n",
        "  print(f'Columna {col}: {data[col].nunique()} subniveles')"
      ],
      "metadata": {
        "id": "TrtH8OzKe8lh",
        "colab": {
          "base_uri": "https://localhost:8080/"
        },
        "outputId": "c10bef1c-0027-4cc6-a07c-b6a15c187712"
      },
      "execution_count": 42,
      "outputs": [
        {
          "output_type": "stream",
          "name": "stdout",
          "text": [
            "Columna job: 18 subniveles\n",
            "Columna marital: 6 subniveles\n",
            "Columna education: 10 subniveles\n",
            "Columna default: 2 subniveles\n",
            "Columna housing: 2 subniveles\n",
            "Columna loan: 6 subniveles\n",
            "Columna contact: 5 subniveles\n",
            "Columna month: 12 subniveles\n",
            "Columna poutcome: 6 subniveles\n",
            "Columna y: 2 subniveles\n"
          ]
        }
      ]
    },
    {
      "cell_type": "code",
      "source": [
        "#Conteo los valores\n",
        "pd.value_counts(data['job'])"
      ],
      "metadata": {
        "id": "L9NEsBNcs99J",
        "colab": {
          "base_uri": "https://localhost:8080/"
        },
        "outputId": "a1b09783-c883-4124-b901-cfbf5333572f"
      },
      "execution_count": 43,
      "outputs": [
        {
          "output_type": "execute_result",
          "data": {
            "text/plain": [
              "job\n",
              "blue-collar       9731\n",
              "management        9455\n",
              "technician        7599\n",
              "admin.            5168\n",
              "services          4153\n",
              "retired           2263\n",
              "self-employed     1578\n",
              "entrepreneur      1487\n",
              "unemployed        1303\n",
              "housemaid         1240\n",
              "student            938\n",
              "unknown            288\n",
              "administrative       3\n",
              "Management           2\n",
              "MANAGEMENT           2\n",
              "Self-employed        1\n",
              "Services             1\n",
              "Retired              1\n",
              "Name: count, dtype: int64"
            ]
          },
          "metadata": {},
          "execution_count": 43
        }
      ]
    },
    {
      "cell_type": "markdown",
      "source": [
        "Todas las columnas categóricas tienen más de 1 subnivel. No eliminaremos ninguna.\n",
        "\n",
        "Verifiquemos lo que ocurre con las columnas numéricas:"
      ],
      "metadata": {
        "id": "O9wOldaamWMZ"
      }
    },
    {
      "cell_type": "markdown",
      "source": [
        "Todas las columnas numéricas tienen desviaciones estándar (\"std\") diferentes de cero, lo que indica que no tienen un único valor.\n",
        "\n",
        "Preservaremos todas las columnas numéricas."
      ],
      "metadata": {
        "id": "Jbqj5dyXmc-i"
      }
    },
    {
      "cell_type": "markdown",
      "source": [
        "La **desviación estándar** es una medida que nos indica qué tan dispersos o alejados están los valores de un conjunto de datos respecto a su media o promedio. En otras palabras, nos ayuda a entender cuánto varían los valores individuales de un conjunto de datos con respecto a su valor promedio.\n",
        "\n",
        "Imagina que tienes un conjunto de datos que representa las alturas de estudiantes en una clase. Si la desviación estándar es baja, significa que la mayoría de los estudiantes tienen alturas muy similares entre sí y cercanas a la altura promedio de la clase. Por otro lado, si la desviación estándar es alta, significa que las alturas de los estudiantes están muy dispersas, algunos son muy altos y otros muy bajos en comparación con la altura promedio.\n",
        "\n",
        "Entonces, la desviación estándar nos da una idea de la dispersión o variabilidad de los datos alrededor de su promedio. Una desviación estándar baja indica que los datos están más agrupados alrededor del promedio, mientras que una desviación estándar alta indica que los datos están más dispersos o separados del promedio."
      ],
      "metadata": {
        "id": "JcvifwPPnHLK"
      }
    },
    {
      "cell_type": "code",
      "source": [
        "# Calcular la desviación estándar para las columnas numéricas\n",
        "desviaciones_estandar = data[['age', 'balance', 'day', 'duration', 'campaign', 'pdays', 'previous']].std()\n",
        "\n",
        "# Imprimir las desviaciones estándar\n",
        "print(desviaciones_estandar)"
      ],
      "metadata": {
        "id": "BKh3RZvRmW7t",
        "colab": {
          "base_uri": "https://localhost:8080/"
        },
        "outputId": "80f68c0f-d632-4157-a91b-2f08455e549c"
      },
      "execution_count": 44,
      "outputs": [
        {
          "output_type": "stream",
          "name": "stdout",
          "text": [
            "age           12.036647\n",
            "balance     3924.255525\n",
            "day            8.322473\n",
            "duration     257.605175\n",
            "campaign       3.097910\n",
            "pdays        100.120622\n",
            "previous       2.303438\n",
            "dtype: float64\n"
          ]
        }
      ]
    },
    {
      "cell_type": "code",
      "source": [
        "#desviacion estandar para la variable 'pdays'\n",
        "destd_pdays = data[['pdays']].std()\n",
        "\n",
        "# Imprimir las desviaciones estándar\n",
        "print(destd_pdays)"
      ],
      "metadata": {
        "id": "bXhQbALAs7ZW",
        "colab": {
          "base_uri": "https://localhost:8080/"
        },
        "outputId": "e5f0dd2c-6c2d-45d4-c4d5-db8b1f77de44"
      },
      "execution_count": 45,
      "outputs": [
        {
          "output_type": "stream",
          "name": "stdout",
          "text": [
            "pdays    100.120622\n",
            "dtype: float64\n"
          ]
        }
      ]
    },
    {
      "cell_type": "code",
      "source": [
        "# Crear una gráfica de barras para representar las desviaciones estándar\n",
        "desviaciones_estandar.plot(kind='bar')\n",
        "plt.title('Desviación Estándar de las Variables Numéricas')\n",
        "plt.xlabel('Variables')\n",
        "plt.ylabel('Desviación Estándar')\n",
        "plt.xticks(rotation=45)\n",
        "plt.show()"
      ],
      "metadata": {
        "id": "zTdEJPRRs-b7",
        "colab": {
          "base_uri": "https://localhost:8080/",
          "height": 516
        },
        "outputId": "f00c770e-49f0-4c0b-b22e-d25bcca9782d"
      },
      "execution_count": 46,
      "outputs": [
        {
          "output_type": "display_data",
          "data": {
            "text/plain": [
              "<Figure size 640x480 with 1 Axes>"
            ],
            "image/png": "[encoded data removed]"
          },
          "metadata": {}
        }
      ]
    },
    {
      "cell_type": "code",
      "source": [
        "# Graficar la desviación estándar de 'pdays'\n",
        "plt.figure(figsize=(4, 2))  # Configura el tamaño de la figura\n",
        "plt.bar('pdays', destd_pdays)  # Crea una barra para la desviación estándar de 'pdays'\n",
        "plt.title('Desviación Estándar de pdays')\n",
        "plt.ylabel('Desviación Estándar')\n",
        "plt.show()"
      ],
      "metadata": {
        "id": "Pk_b91eNtCNO",
        "colab": {
          "base_uri": "https://localhost:8080/",
          "height": 237
        },
        "outputId": "594b1a06-9399-435c-c65c-b219d65a79ca"
      },
      "execution_count": 47,
      "outputs": [
        {
          "output_type": "display_data",
          "data": {
            "text/plain": [
              "<Figure size 400x200 with 1 Axes>"
            ],
            "image/png": "[encoded data removed]"
          },
          "metadata": {}
        }
      ]
    },
    {
      "cell_type": "code",
      "source": [
        "# Calcula la media del atributo \"pdays: dias de contacto al usuario antes de la campaña actual\"\n",
        "media = data['pdays'].mean()\n",
        "\n",
        "print(\"Promedio de dias de contacto:\", media)"
      ],
      "metadata": {
        "id": "OsmS71IOu_1A",
        "colab": {
          "base_uri": "https://localhost:8080/"
        },
        "outputId": "5dc96ea5-6515-4672-9088-010da9656d19"
      },
      "execution_count": 48,
      "outputs": [
        {
          "output_type": "stream",
          "name": "stdout",
          "text": [
            "Promedio de dias de contacto: 40.19248462865484\n"
          ]
        }
      ]
    },
    {
      "cell_type": "code",
      "source": [
        "# Graficar un histograma del atributo \"pdays\"\n",
        "plt.hist(data['pdays'], bins=20, color='skyblue', edgecolor='black')\n",
        "\n",
        "# Agregar una línea vertical para mostrar la media\n",
        "plt.axvline(media, color='red', linestyle='dashed', linewidth=1)\n",
        "\n",
        "# Etiquetas y título\n",
        "plt.xlabel('Valor de la pdays')\n",
        "plt.ylabel('Frecuencia')\n",
        "plt.title('Histograma de la pdays con Media')\n",
        "\n",
        "# Mostrar la gráfica\n",
        "plt.show()"
      ],
      "metadata": {
        "id": "OUMqf0BMvDF3",
        "colab": {
          "base_uri": "https://localhost:8080/",
          "height": 472
        },
        "outputId": "383b95e9-5758-49d7-994b-ce18c9c20deb"
      },
      "execution_count": 49,
      "outputs": [
        {
          "output_type": "display_data",
          "data": {
            "text/plain": [
              "<Figure size 640x480 with 1 Axes>"
            ],
            "image/png": "[encoded data removed]"
          },
          "metadata": {}
        }
      ]
    },
    {
      "cell_type": "markdown",
      "source": [
        "## Clase 24/06/2024"
      ],
      "metadata": {
        "id": "4gqzQel-4VxG"
      }
    },
    {
      "cell_type": "markdown",
      "source": [
        "##4.3 Filas repetidas"
      ],
      "metadata": {
        "id": "khWhpFOl4utI"
      }
    },
    {
      "cell_type": "code",
      "source": [
        "#Mostramos la cantidad de registros antes de aplicar una transformación, limpieza o filtro\n",
        "print(f'Tamaño del set antes de eliminar las filas repetidas: {data.shape}')\n",
        "data.drop_duplicates(inplace=True)\n",
        "#Mostramos la cantidad de registros después de aplicar una transformación, limpieza o filtro\n",
        "print(f'Tamaño del set después de eliminar las filas repetidas: {data.shape}')"
      ],
      "metadata": {
        "id": "dz4UH4oc4a42",
        "colab": {
          "base_uri": "https://localhost:8080/"
        },
        "outputId": "f792d234-f87f-42c6-f03b-289ac2722b39"
      },
      "execution_count": 50,
      "outputs": [
        {
          "output_type": "stream",
          "name": "stdout",
          "text": [
            "Tamaño del set antes de eliminar las filas repetidas: (45215, 17)\n",
            "Tamaño del set después de eliminar las filas repetidas: (45211, 17)\n"
          ]
        }
      ]
    },
    {
      "cell_type": "markdown",
      "source": [
        "##4.4 *Outliers* en las variables numéricas\n",
        "\n",
        "No siempre se deben eliminar los *outliers* porque dependiendo de la variable numérica analizada estos pueden contener información importante.\n",
        "\n",
        "Creemos gráficas tipo \"boxplot\" de las columnas numéricas:"
      ],
      "metadata": {
        "id": "pYAKVUmO5em0"
      }
    },
    {
      "cell_type": "code",
      "source": [
        "# Generar gráficas individuales pues las variables numéricas\n",
        "# están en rangos diferentes\n",
        "cols_num = ['age', 'balance', 'day', 'duration', 'campaign',\n",
        "            'pdays', 'previous']\n",
        "\n",
        "fig, ax = plt.subplots(nrows=7, ncols=1, figsize=(8,30))\n",
        "fig.subplots_adjust(hspace=0.5)\n",
        "\n",
        "for i, col in enumerate(cols_num):\n",
        "    sns.boxplot(x=col, data=data, ax=ax[i])\n",
        "    ax[i].set_title(col)"
      ],
      "metadata": {
        "id": "gRU-lFQb40_x",
        "colab": {
          "base_uri": "https://localhost:8080/",
          "height": 1000
        },
        "outputId": "cb95d327-b539-4328-9f6d-0d9e430c6ff9"
      },
      "execution_count": 51,
      "outputs": [
        {
          "output_type": "display_data",
          "data": {
            "text/plain": [
              "<Figure size 800x3000 with 7 Axes>"
            ],
            "image/png": "[encoded data removed]"
          },
          "metadata": {}
        }
      ]
    },
    {
      "cell_type": "markdown",
      "source": [
        "**Observaciones:**\n",
        "- \"age\": hay sujetos con edades mucho mayores a 100 años\n",
        "- \"duration\": hay valores negativos\n",
        "- \"previous\": hay un valor extremadamente alto (cercano a 300)"
      ],
      "metadata": {
        "id": "pcs4newN7HG4"
      }
    },
    {
      "cell_type": "code",
      "source": [
        "# Eliminar filas con \"age\">100\n",
        "print(f'Tamaño del set antes de eliminar registros de edad: {data.shape}')\n",
        "data = data.drop(data[data['age'] > 100].index)\n",
        "print(f'Tamaño del set después de eliminar registros de edad: {data.shape}')"
      ],
      "metadata": {
        "id": "CobMETXN7HtP",
        "colab": {
          "base_uri": "https://localhost:8080/"
        },
        "outputId": "a0b63675-d44c-4ebf-b459-3841f476f82f"
      },
      "execution_count": 54,
      "outputs": [
        {
          "output_type": "stream",
          "name": "stdout",
          "text": [
            "Tamaño del set antes de eliminar registros de edad: (45201, 17)\n",
            "Tamaño del set después de eliminar registros de edad: (45201, 17)\n"
          ]
        }
      ]
    },
    {
      "cell_type": "code",
      "source": [
        "# Eliminar filas con \"duration\"<0\n",
        "print(f'Tamaño del set antes de eliminar registros de duración: {data.shape}')\n",
        "data = data.drop(data[data['duration'] < 0].index)\n",
        "#data = data[data['duration']>0]\n",
        "print(f'Tamaño del set después de eliminar registros de duración: {data.shape}')"
      ],
      "metadata": {
        "id": "C6hjjuLM7NDp",
        "colab": {
          "base_uri": "https://localhost:8080/"
        },
        "outputId": "f7c0f987-4163-46ca-c55f-3afb3684885d"
      },
      "execution_count": 53,
      "outputs": [
        {
          "output_type": "stream",
          "name": "stdout",
          "text": [
            "Tamaño del set antes de eliminar registros de duración: (45203, 17)\n",
            "Tamaño del set después de eliminar registros de duración: (45201, 17)\n"
          ]
        }
      ]
    },
    {
      "cell_type": "code",
      "source": [
        "# Eliminar filas con \"previous\">100"
      ],
      "metadata": {
        "id": "GrO7AGkZ7Tgf"
      },
      "execution_count": null,
      "outputs": []
    },
    {
      "cell_type": "markdown",
      "source": [
        "##4.5 Errores tipográficos en variables categóricas\n",
        "\n",
        "En una variable categórica pueden aparecer sub-niveles como \"unknown\" y \"UNK\" que para nosotros son equivalentes pero que para nuestro programa parecerían diferentes.\n",
        "\n",
        "Se deben unificar estos sub-niveles"
      ],
      "metadata": {
        "id": "9wp7lbIU7WZD"
      }
    },
    {
      "cell_type": "code",
      "source": [],
      "metadata": {
        "id": "W4oL43kz7W-3"
      },
      "execution_count": null,
      "outputs": []
    }
  ]
}